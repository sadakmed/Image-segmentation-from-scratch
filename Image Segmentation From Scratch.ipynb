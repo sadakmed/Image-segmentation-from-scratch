{
 "cells": [
  {
   "cell_type": "code",
   "execution_count": 1,
   "metadata": {},
   "outputs": [],
   "source": [
    "import matplotlib.pyplot as plt\n",
    "import matplotlib.gridspec as gridspec\n",
    "import numpy as np\n",
    "import cv2 "
   ]
  },
  {
   "cell_type": "code",
   "execution_count": 2,
   "metadata": {},
   "outputs": [],
   "source": [
    "class segmentation:\n",
    "    def __init__(self,r,th=5,noise_acc=15,gap=1):\n",
    "        self.r=r\n",
    "        self.th=th\n",
    "        self.noise_acc=noise_acc\n",
    "        self.gap=gap\n",
    "        self.h,self.w=r.shape\n",
    "        self.imax=r.max()\n",
    "        self.imin=r.min()\n",
    "    \n",
    "    def clear_noise(self):\n",
    "        \"\"\"\n",
    "                 remove the pixels with small accuracy to make the process easier\n",
    "                   inputs =>\n",
    "                            r: Rimage\n",
    "                            noise_acc: minimum accuracy per color degree\n",
    "                   output =>\n",
    "                            r: processed Rimage\n",
    "        \"\"\"\n",
    "        unique , counts =np.unique(self.r.reshape(self.h*self.w),return_counts=True)\n",
    "        for uni , count in zip( unique , counts) :\n",
    "                if count < self.noise_acc:\n",
    "                     self.r[self.r==uni]=0\n",
    "        return self.r \n",
    "    \n",
    "    def split_gap(self):\n",
    "        \"\"\"\n",
    "                split the pixels into groups based on the gap between\n",
    "                input =>\n",
    "                             r: Rimage\n",
    "                             gap: the maximum size between two pixels \n",
    "                output=> \n",
    "                             grps: list of groups\n",
    "     \n",
    "        \"\"\"\n",
    "        \n",
    "        arr=np.unique(self.clear_noise().reshape(self.h*self.w))\n",
    "        arr.sort()\n",
    "        grps = [[arr[0]]]\n",
    "        for i in arr[1:]:\n",
    "            if abs(i - grps[-1][-1]) <= self.gap:\n",
    "                grps[-1].append(i)\n",
    "            else:\n",
    "                grps.append([i])\n",
    "        return grps\n",
    "    def split_into_region(self,one,th):\n",
    "            \"\"\"\n",
    "                split groups that had a large scale\n",
    "                inputs=>\n",
    "                        arr:Rimage\n",
    "                        much: threshold\n",
    "                output=>\n",
    "                        region to merge \n",
    "      \n",
    "            \"\"\"\n",
    "            ar=np.array(one)\n",
    "            parts=ar.size//th\n",
    "            if ar.size%th!=0:    \n",
    "                shayt=ar.size-parts*th\n",
    "                parts=parts+1\n",
    "                toadd=parts*th - ar.size\n",
    "                last=np.ones(toadd)*ar[-1]\n",
    "                ar=np.concatenate((ar,last))\n",
    "            return np.split(ar,parts)   \n",
    "    def orga_regions(self):\n",
    "            \"\"\"\n",
    "            organise the regions, width of th from the mean in both sides  \n",
    "            inputs=>\n",
    "                    arr:Rimage\n",
    "                    th: threshold\n",
    "            output=>\n",
    "                    final regions to merge \n",
    "\n",
    "            \"\"\"\n",
    "            tmp=list()\n",
    "            for one in self.split_gap():\n",
    "                if len(one) > 2*self.th:\n",
    "                    regions=self.split_into_region(one,2*self.th+1)\n",
    "                    for i in range(len(regions)):\n",
    "                        tmp.append(regions[i])\n",
    "                else:\n",
    "                    tmp.append(np.array(one))\n",
    "            return tmp\n",
    "        \n",
    "    def segment(self):\n",
    "            \"\"\"\n",
    "            regions in img\n",
    "\n",
    "            output=>\n",
    "                      array of image containt  region per elt \n",
    "\n",
    "\n",
    "            \"\"\"\n",
    "            \n",
    "            im=[]\n",
    "            for i in self.orga_regions():\n",
    "                tat=np.abs(self.r-i.mean()).reshape(self.h,self.w)\n",
    "                mask=tat < self.th\n",
    "                iprim=int((i.mean()-self.imin)*255/(self.imax-self.imin))\n",
    "                tat=(mask*np.ones(self.r.shape))*iprim\n",
    "                im.append(tat)\n",
    "            return im"
   ]
  },
  {
   "cell_type": "markdown",
   "metadata": {},
   "source": [
    "## Import the img"
   ]
  },
  {
   "cell_type": "code",
   "execution_count": 7,
   "metadata": {},
   "outputs": [],
   "source": [
    "image = cv2.imread('1pand_RGB.tif')\n",
    "b,g,r=cv2.split(image)\n",
    "h,w=r.shape\n",
    "test=cv2.imread('regions.png')"
   ]
  },
  {
   "cell_type": "markdown",
   "metadata": {},
   "source": [
    "## Create the instance and call the segment func."
   ]
  },
  {
   "cell_type": "code",
   "execution_count": 8,
   "metadata": {},
   "outputs": [],
   "source": [
    "seg=segmentation(r,th=10,noise_acc=30)\n",
    "im=seg.segment()"
   ]
  },
  {
   "cell_type": "markdown",
   "metadata": {},
   "source": [
    "## Plot the regions"
   ]
  },
  {
   "cell_type": "code",
   "execution_count": 14,
   "metadata": {},
   "outputs": [
    {
     "data": {
      "image/png": "[encoded data removed]",
      "text/plain": [
       "<Figure size 576x576 with 6 Axes>"
      ]
     },
     "metadata": {},
     "output_type": "display_data"
    }
   ],
   "source": [
    "fig=plt.figure(figsize=(8, 8))\n",
    "columns = 3\n",
    "rows = 2\n",
    "for i in range(1, columns*rows +1):\n",
    "    fig.add_subplot(rows, columns, i)\n",
    "    plt.imshow(im[i-1])\n"
   ]
  },
  {
   "cell_type": "code",
   "execution_count": null,
   "metadata": {},
   "outputs": [],
   "source": []
  }
 ],
 "metadata": {
  "kernelspec": {
   "display_name": "Python [conda env:anaconda3]",
   "language": "python",
   "name": "conda-env-anaconda3-py"
  },
  "language_info": {
   "codemirror_mode": {
    "name": "ipython",
    "version": 3
   },
   "file_extension": ".py",
   "mimetype": "text/x-python",
   "name": "python",
   "nbconvert_exporter": "python",
   "pygments_lexer": "ipython3",
   "version": "3.5.5"
  }
 },
 "nbformat": 4,
 "nbformat_minor": 2
}
